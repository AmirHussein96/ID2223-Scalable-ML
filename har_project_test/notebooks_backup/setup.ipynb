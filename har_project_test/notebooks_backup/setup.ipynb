{
 "cells": [
  {
   "cell_type": "markdown",
   "metadata": {
    "deletable": true,
    "editable": true
   },
   "source": [
    "## Imports"
   ]
  },
  {
   "cell_type": "code",
   "execution_count": 1,
   "metadata": {
    "collapsed": false,
    "deletable": true,
    "editable": true
   },
   "outputs": [
    {
     "name": "stdout",
     "output_type": "stream",
     "text": [
      "Starting Spark application\n"
     ]
    },
    {
     "data": {
      "text/html": [
       "<table>\n",
       "<tr><th>ID</th><th>YARN Application ID</th><th>Kind</th><th>State</th><th>Spark UI</th><th>Driver log</th><th>Current session?</th></tr><tr><td>1944</td><td>application_1512575073636_0472</td><td>pyspark</td><td>idle</td><td><a target=\"_blank\" href=\"http://hadoop30:8088/proxy/application_1512575073636_0472/\">Link</a></td><td><a target=\"_blank\" href=\"http://hadoop8:8042/node/containerlogs/container_e26_1512575073636_0472_01_000001/har_1__kimham00\">Link</a></td><td>✔</td></tr></table>"
      ],
      "text/plain": [
       "<IPython.core.display.HTML object>"
      ]
     },
     "metadata": {},
     "output_type": "display_data"
    },
    {
     "name": "stdout",
     "output_type": "stream",
     "text": [
      "SparkSession available as 'spark'.\n"
     ]
    }
   ],
   "source": [
    "import argparse\n",
    "from pyspark.context import SparkContext\n",
    "from pyspark.conf import SparkConf\n",
    "from pyspark.sql import SQLContext\n",
    "from hops import hdfs\n",
    "from pyspark.sql.functions import udf\n",
    "from pyspark.sql.types import *"
   ]
  },
  {
   "cell_type": "markdown",
   "metadata": {
    "deletable": true,
    "editable": true
   },
   "source": [
    "## Constants"
   ]
  },
  {
   "cell_type": "code",
   "execution_count": 2,
   "metadata": {
    "collapsed": true,
    "deletable": true,
    "editable": true
   },
   "outputs": [],
   "source": [
    "project_path = \"/Projects/\" + hdfs.project_name()\n",
    "PA_DATA = project_path + \"/HAR_Dataset/Phones_accelerometer.csv\"\n",
    "PG_DATA = project_path + \"/HAR_Dataset/Phones_gyroscope.csv\"\n",
    "WA_DATA = project_path + \"/HAR_Dataset/Watch_accelerometer.csv\"\n",
    "WG_DATA = project_path + \"/HAR_Dataset/Watch_gyroscope.csv\"\n",
    "\n",
    "sc = spark.sparkContext\n",
    "sql = SQLContext(sc)\n",
    "\n",
    "schema_flow = (StructType().add('Index', IntegerType(), True)\n",
    "        .add('Arrival_Time', LongType(), True)\n",
    "        .add('Creation_Time', LongType(), True)\n",
    "        .add('x', DoubleType(), True)\n",
    "        .add('y', DoubleType(), True)\n",
    "        .add('z', DoubleType(), True)\n",
    "        .add('User', StringType(), True)\n",
    "        .add('Model', StringType(), True)\n",
    "        .add('Device', StringType(), True)\n",
    "        .add('gt', StringType(), True)) "
   ]
  },
  {
   "cell_type": "markdown",
   "metadata": {
    "deletable": true,
    "editable": true
   },
   "source": [
    "## Read Data"
   ]
  },
  {
   "cell_type": "code",
   "execution_count": 3,
   "metadata": {
    "collapsed": true,
    "deletable": true,
    "editable": true
   },
   "outputs": [],
   "source": [
    "def parse_args():\n",
    "    parser = argparse.ArgumentParser()\n",
    "    parser.add_argument(\"-n\", \"--num-partitions\", help=\"Number of output partitions\", type=int, default=10)\n",
    "    parser.add_argument(\"-o\", \"--output\", help=\"HDFS directory to save examples in parallelized format\", default=project_path + \"/HAR_Dataset/cleaned_data\")\n",
    "    parser.add_argument(\"-c\", \"--cluster\", help=\"run on cluster master or local master\", action=\"store_true\")\n",
    "    args = parser.parse_args()\n",
    "    return args"
   ]
  },
  {
   "cell_type": "code",
   "execution_count": 4,
   "metadata": {
    "collapsed": true,
    "deletable": true,
    "editable": true
   },
   "outputs": [],
   "source": [
    "def read_raw_data(num_partitions):\n",
    "    paRaw = (spark.read.schema(schema_flow).option(\"header\", \"true\").option(\"numPartitons\", num_partitions).csv(PA_DATA))\n",
    "    return paRaw\n",
    "    #gaRaw = (spark.read.schema(schema_flow).option(\"header\", \"true\").option(\"numPartitons\", num_partitions).csv(GA_DATA))\n",
    "    #waRaw = (spark.read.schema(schema_flow).option(\"header\", \"true\").option(\"numPartitons\", num_partitions).csv(WA_DATA))\n",
    "    #wgRaw = (spark.read.schema(schema_flow).option(\"header\", \"true\").option(\"numPartitons\", num_partitions).csv(WG_DATA))\n",
    "    #return paRaw.unionAll(gaRaw).unionAll(waRaw).unionAll(wgRaw)"
   ]
  },
  {
   "cell_type": "markdown",
   "metadata": {
    "deletable": true,
    "editable": true
   },
   "source": [
    "### Read Raw Data"
   ]
  },
  {
   "cell_type": "code",
   "execution_count": 5,
   "metadata": {
    "collapsed": false,
    "deletable": true,
    "editable": true
   },
   "outputs": [],
   "source": [
    "args = parse_args()\n",
    "raw_data = read_raw_data(args.num_partitions)\n",
    "raw_data = raw_data.drop(\"Index\")\n",
    "raw_data_size = raw_data.count()"
   ]
  },
  {
   "cell_type": "markdown",
   "metadata": {
    "deletable": true,
    "editable": true
   },
   "source": [
    "### Split into Train & Test"
   ]
  },
  {
   "cell_type": "code",
   "execution_count": 6,
   "metadata": {
    "collapsed": false,
    "deletable": true,
    "editable": true
   },
   "outputs": [],
   "source": [
    "train_raw, test_raw = raw_data.randomSplit([0.8, 0.2])\n",
    "train_data_size = train_raw.count()\n",
    "test_data_size = test_raw.count()\n",
    "train_raw = train_raw.limit(train_data_size - (train_data_size % 1000))\n",
    "train_data_size = train_data_size - (train_data_size % 1000)\n",
    "test_raw = test_raw.limit(test_data_size - (test_data_size % 1000))\n",
    "test_data_size = test_data_size - (test_data_size % 1000)\n",
    "#train_raw = train_raw.repartition(args.num_partitions)\n",
    "#test_raw = test_raw.repartition(args.num_partitions)"
   ]
  },
  {
   "cell_type": "markdown",
   "metadata": {
    "deletable": true,
    "editable": true
   },
   "source": [
    "### Convert Categorical Features into Numerical"
   ]
  },
  {
   "cell_type": "code",
   "execution_count": 7,
   "metadata": {
    "collapsed": true,
    "deletable": true,
    "editable": true
   },
   "outputs": [],
   "source": [
    "classes = raw_data.select(\"gt\").distinct().rdd.map(lambda row: row.gt).zipWithIndex().collectAsMap()\n",
    "devices = raw_data.select(\"Device\").distinct().rdd.map(lambda row: row.Device).zipWithIndex().collectAsMap()\n",
    "models = raw_data.select(\"Model\").distinct().rdd.map(lambda row: row.Model).zipWithIndex().collectAsMap()\n",
    "users = raw_data.select(\"User\").distinct().rdd.map(lambda row: row.User).zipWithIndex().collectAsMap()\n",
    "labels_train = train_raw.select(\"gt\").rdd.map(lambda row: classes[row.gt])\n",
    "features_train = train_raw.drop(\"gt\").rdd.map(lambda row: (row.Arrival_Time,row.Creation_Time,row.x,row.y,row.z,users[row.User],models[row.Model],devices[row.Device]))\n",
    "labels_test = test_raw.select(\"gt\").rdd.map(lambda row: classes[row.gt])\n",
    "features_test = test_raw.drop(\"gt\").rdd.map(lambda row: (row.Arrival_Time,row.Creation_Time,row.x,row.y,row.z,users[row.User],models[row.Model],devices[row.Device]))"
   ]
  },
  {
   "cell_type": "markdown",
   "metadata": {
    "deletable": true,
    "editable": true
   },
   "source": [
    "### Normalize Data"
   ]
  },
  {
   "cell_type": "code",
   "execution_count": 8,
   "metadata": {
    "collapsed": true,
    "deletable": true,
    "editable": true
   },
   "outputs": [],
   "source": [
    "# TODO"
   ]
  },
  {
   "cell_type": "markdown",
   "metadata": {
    "deletable": true,
    "editable": true
   },
   "source": [
    "### Convert To Fixed Length Sequences"
   ]
  },
  {
   "cell_type": "code",
   "execution_count": 9,
   "metadata": {
    "collapsed": true,
    "deletable": true,
    "editable": true
   },
   "outputs": [],
   "source": [
    "# TODO"
   ]
  },
  {
   "cell_type": "markdown",
   "metadata": {
    "deletable": true,
    "editable": true
   },
   "source": [
    "### Save Cleaned Data"
   ]
  },
  {
   "cell_type": "code",
   "execution_count": 10,
   "metadata": {
    "collapsed": true,
    "deletable": true,
    "editable": true
   },
   "outputs": [],
   "source": [
    "features_train.repartition(args.num_partitions).map(lambda row: ','.join([str(i) for i in list(row)])).saveAsTextFile(args.output + \"/train/features\")\n",
    "labels_train.repartition(args.num_partitions).map(lambda row: ','.join(str(row))).saveAsTextFile(args.output + \"/train/labels\")\n",
    "features_test.repartition(args.num_partitions).map(lambda row: ','.join([str(i) for i in list(row)])).saveAsTextFile(args.output + \"/test/features\")\n",
    "labels_test.repartition(args.num_partitions).map(lambda row: ','.join(str(row))).saveAsTextFile(args.output + \"/test/labels\")"
   ]
  },
  {
   "cell_type": "code",
   "execution_count": 11,
   "metadata": {
    "collapsed": true,
    "deletable": true,
    "editable": true
   },
   "outputs": [],
   "source": [
    "sc.parallelize([(k,v) for k,v in classes.items()]).saveAsTextFile(args.output + \"/classes\")\n",
    "sc.parallelize([(k,v) for k,v in devices.items()]).saveAsTextFile(args.output + \"/devices\")\n",
    "sc.parallelize([(k,v) for k,v in models.items()]).saveAsTextFile(args.output + \"/models\")\n",
    "sc.parallelize([(k,v) for k,v in users.items()]).saveAsTextFile(args.output + \"/users\")"
   ]
  },
  {
   "cell_type": "code",
   "execution_count": null,
   "metadata": {
    "collapsed": true,
    "deletable": true,
    "editable": true
   },
   "outputs": [],
   "source": []
  }
 ],
 "metadata": {
  "kernelspec": {
   "display_name": "PySpark",
   "language": "",
   "name": "pysparkkernel"
  },
  "language_info": {
   "codemirror_mode": {
    "name": "python",
    "version": 2
   },
   "mimetype": "text/x-python",
   "name": "pyspark",
   "pygments_lexer": "python2"
  }
 },
 "nbformat": 4,
 "nbformat_minor": 2
}
