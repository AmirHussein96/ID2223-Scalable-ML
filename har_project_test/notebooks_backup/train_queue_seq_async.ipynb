{
 "cells": [
  {
   "cell_type": "markdown",
   "metadata": {
    "deletable": true,
    "editable": true
   },
   "source": [
    "## Imports"
   ]
  },
  {
   "cell_type": "code",
   "execution_count": 1,
   "metadata": {
    "collapsed": false,
    "deletable": true,
    "editable": true
   },
   "outputs": [
    {
     "name": "stdout",
     "output_type": "stream",
     "text": [
      "Starting Spark application\n"
     ]
    },
    {
     "data": {
      "text/html": [
       "<table>\n",
       "<tr><th>ID</th><th>YARN Application ID</th><th>Kind</th><th>State</th><th>Spark UI</th><th>Driver log</th><th>Current session?</th></tr><tr><td>2445</td><td>application_1512575073636_1004</td><td>pyspark</td><td>idle</td><td><a target=\"_blank\" href=\"http://hadoop30:8088/proxy/application_1512575073636_1004/\">Link</a></td><td><a target=\"_blank\" href=\"http://hadoop9:8042/node/containerlogs/container_e26_1512575073636_1004_01_000001/har_1__kimham00\">Link</a></td><td>✔</td></tr></table>"
      ],
      "text/plain": [
       "<IPython.core.display.HTML object>"
      ]
     },
     "metadata": {},
     "output_type": "display_data"
    },
    {
     "name": "stdout",
     "output_type": "stream",
     "text": [
      "SparkSession available as 'spark'.\n"
     ]
    }
   ],
   "source": [
    "import argparse\n",
    "from pyspark.context import SparkContext\n",
    "from pyspark.conf import SparkConf\n",
    "from pyspark.sql import SQLContext\n",
    "from hops import hdfs\n",
    "from pyspark.sql.functions import udf\n",
    "from pyspark.sql.types import *\n",
    "from tensorflowonspark import TFCluster\n",
    "from hops import util"
   ]
  },
  {
   "cell_type": "markdown",
   "metadata": {
    "deletable": true,
    "editable": true
   },
   "source": [
    "## Constants"
   ]
  },
  {
   "cell_type": "code",
   "execution_count": 2,
   "metadata": {
    "collapsed": false,
    "deletable": true,
    "editable": true
   },
   "outputs": [],
   "source": [
    "project_path = \"/Projects/\" + hdfs.project_name()\n",
    "\n",
    "TRAIN_FEATURES_PATH = project_path + \"/HAR_Dataset/cleaned_data/train/features\"\n",
    "TRAIN_LABELS_PATH = project_path + \"/HAR_Dataset/cleaned_data/train/labels\"\n",
    "TEST_FEATURES_PATH = project_path + \"/HAR_Dataset/cleaned_data/test/features\"\n",
    "TEST_LABELS_PATH = project_path + \"/HAR_Dataset/cleaned_data/test/labels\"\n",
    "\n",
    "sc = spark.sparkContext\n",
    "sql = SQLContext(sc)"
   ]
  },
  {
   "cell_type": "markdown",
   "metadata": {
    "deletable": true,
    "editable": true
   },
   "source": [
    "## Read Data"
   ]
  },
  {
   "cell_type": "code",
   "execution_count": 3,
   "metadata": {
    "collapsed": false,
    "deletable": true,
    "editable": true
   },
   "outputs": [],
   "source": [
    "def parse_args(num_executors):\n",
    "    \"setup parser if running from CLI\"\n",
    "    parser = argparse.ArgumentParser()\n",
    "    parser.add_argument('-c', \"--cluster\", action='store_true', default=False)\n",
    "    parser.add_argument(\"-n\", \"--cluster_size\", help=\"number of nodes in the cluster\", type=int, default=num_executors)\n",
    "    parser.add_argument(\"-tb\", \"--tensorboard\", help=\"launch tensorboard process\", action=\"store_true\")\n",
    "    parser.add_argument(\"-X\", \"--mode\", help=\"train|inference\", default=\"train\")\n",
    "    parser.add_argument(\"-f\", \"--features\", help=\"HDFS path to features in parallelized format\", default=TRAIN_FEATURES_PATH)\n",
    "    parser.add_argument(\"-l\", \"--labels\", help=\"HDFS path to labels in parallelized format\", default=TRAIN_LABELS_PATH)\n",
    "    parser.add_argument(\"-m\", \"--model\", help=\"HDFS path to save/load model during train/inference\", default=project_path + \"/HAR_Dataset/saved_model/saved_model\")\n",
    "    parser.add_argument(\"-r\", \"--rdma\", help=\"use rdma connection\", default=False)\n",
    "    parser.add_argument(\"-o\", \"--output\", help=\"HDFS path to save test/inference output\", default=project_path + \"/HAR_Dataset/predictions\")\n",
    "    parser.add_argument(\"-s\", \"--steps\", help=\"maximum number of steps\", type=int, default=100000)\n",
    "    parser.add_argument(\"-b\", \"--batch_size\", help=\"number of records per batch\", type=int, default=100)\n",
    "    parser.add_argument(\"-e\", \"--epochs\", help=\"number of epochs\", type=int, default=100)\n",
    "    parser.add_argument(\"-lr\", \"--learningrate\", help=\"number of epochs\", type=float, default=0.00025)\n",
    "    args = parser.parse_args()\n",
    "    return args\n",
    "\n",
    "def training_args(args):\n",
    "    \"helper function for default train parameters\"\n",
    "    args.features = TRAIN_FEATURES_PATH\n",
    "    args.labels = TRAIN_LABELS_PATH\n",
    "    args.mode = \"train\"\n",
    "    args.steps = 100000\n",
    "    args.batch_size = 1000\n",
    "    args.epochs=100\n",
    "    return args\n",
    "    \n",
    "def test_args(args):\n",
    "    \"helper function for default test parameters\"\n",
    "    args.features = TEST_FEATURES_PATH\n",
    "    args.labels = TEST_LABELS_PATH\n",
    "    args.mode = \"inference\"\n",
    "    args.steps = 100000\n",
    "    args.batch_size = 100\n",
    "    args.epochs=100\n",
    "    return args"
   ]
  },
  {
   "cell_type": "markdown",
   "metadata": {
    "deletable": true,
    "editable": true
   },
   "source": [
    "## TensorFlow Model"
   ]
  },
  {
   "cell_type": "code",
   "execution_count": 4,
   "metadata": {
    "collapsed": false,
    "deletable": true,
    "editable": true
   },
   "outputs": [],
   "source": [
    "def map_fun(args, ctx):\n",
    "    \"\"\"Training/Inference Function executed by parameter-servers and workers in distributed TFOS\"\"\"\n",
    "    NUM_FEATURES = 3\n",
    "    NUM_CLASSES = 7\n",
    "    SEQUENCE_SIZE = 100\n",
    "    NUM_HIDDEN_UNITS = 64\n",
    "\n",
    "    def print_log(worker_num, arg):\n",
    "        print(\"Worker {0}: {1}\".format(worker_num, arg))\n",
    "\n",
    "    from tensorflowonspark import TFNode\n",
    "    from datetime import datetime\n",
    "    import getpass\n",
    "    import math\n",
    "    import numpy\n",
    "    import os\n",
    "    import signal\n",
    "    import tensorflow as tf\n",
    "    import time\n",
    "    # Used to get TensorBoard logdir for TensorBoard that show up in HopsWorks\n",
    "    from hops import tensorboard\n",
    "\n",
    "    worker_num = ctx.worker_num\n",
    "    job_name = ctx.job_name\n",
    "    task_index = ctx.task_index\n",
    "    cluster_spec = ctx.cluster_spec\n",
    "    print_log(worker_num, \"task_index: {0}, job_name {1}, cluster_spec: {2}\".format(task_index, job_name, cluster_spec))\n",
    "    num_workers = len(cluster_spec['worker'])\n",
    "\n",
    "    # Delay PS nodes a bit, since workers seem to reserve GPUs more quickly/reliably (w/o conflict)\n",
    "    if job_name == \"ps\":\n",
    "        time.sleep((worker_num + 1) * 10)\n",
    "\n",
    "    batch_size = args.batch_size\n",
    "    print_log(worker_num, \"batch_size: {0}\".format(batch_size))\n",
    "\n",
    "    # Get TF cluster and server instances\n",
    "    cluster, server = TFNode.start_cluster_server(ctx, 1, args.rdma)\n",
    "    \n",
    "    def read_csv_features(feature_dir, batch_size=100, num_epochs=None, task_index=None, num_workers=None):\n",
    "        \"\"\" Reads pre-processed and parallelized CSV files from disk into TF-HDFS queues\"\"\"\n",
    "        print_log(worker_num, \"num_epochs: {0}\".format(num_epochs))\n",
    "\n",
    "        # Setup queue of csv feature filenames\n",
    "        tf_record_pattern = os.path.join(feature_dir, 'part-*')\n",
    "        features = tf.gfile.Glob(tf_record_pattern)\n",
    "        print_log(worker_num, \"features: {0}\".format(features))\n",
    "        feature_queue = tf.train.string_input_producer(features, shuffle=False, capacity=1000, num_epochs=num_epochs,\n",
    "                                                       name=\"feature_queue\")\n",
    "        # Setup reader for feature queue\n",
    "        feature_reader = tf.TextLineReader(name=\"feature_reader\")\n",
    "        _, feat_csv = feature_reader.read(feature_queue)\n",
    "        feature_defaults = [[1.0] for col in range(NUM_FEATURES)]\n",
    "        feature = tf.stack(tf.decode_csv(feat_csv, feature_defaults), name=\"input_features\")\n",
    "        print_log(worker_num, \"features: {0}, shape: {1}\".format(feature, feature.shape))\n",
    "\n",
    "        # Return a batch of examples\n",
    "        return tf.train.batch([feature], batch_size, num_threads=10, name=\"batch_csv\")\n",
    "\n",
    "    def read_csv_labels(label_dir, batch_size=10, num_epochs=None, task_index=None, num_workers=None):\n",
    "        \"\"\" Reads pre-processed and parallelized CSV files from disk into TF-HDFS queues\"\"\"\n",
    "        print_log(worker_num, \"num_epochs: {0}\".format(num_epochs))\n",
    "\n",
    "        # Setup queue of csv label filenames\n",
    "        tf_record_pattern = os.path.join(label_dir, 'part-*')\n",
    "        labels = tf.gfile.Glob(tf_record_pattern)\n",
    "        print_log(worker_num, \"labels: {0}\".format(labels))\n",
    "        label_queue = tf.train.string_input_producer(labels, shuffle=False, capacity=1000, num_epochs=num_epochs,\n",
    "                                                     name=\"label_queue\")\n",
    "\n",
    "        # Setup reader for label queue\n",
    "        label_reader = tf.TextLineReader(name=\"label_reader\")\n",
    "        _, label_csv = label_reader.read(label_queue)\n",
    "        label_defaults = [tf.constant([], dtype=tf.int64)]\n",
    "        label = tf.stack(tf.decode_csv(label_csv, label_defaults), name = \"input_labels\")\n",
    "        print_log(worker_num, tf.shape(label))\n",
    "        print_log(worker_num, \"label: {0}\".format(label))\n",
    "\n",
    "        # Return a batch of examples\n",
    "        return tf.train.batch([label], batch_size, num_threads=10, name=\"label_batch_csv\")\n",
    "    \n",
    "    if job_name == \"ps\":\n",
    "        print_log(worker_num, \"Parameter Server Joining\")\n",
    "        server.join()\n",
    "\n",
    "    elif job_name == \"worker\":\n",
    "        print_log(worker_num, \"worker {0} starting\")\n",
    "\n",
    "        with tf.device(tf.train.replica_device_setter(\n",
    "                worker_device=\"/job:worker/task:%d\" % task_index,\n",
    "                cluster=cluster)):\n",
    "\n",
    "            def build_graph(X):\n",
    "                \"\"\"Builds the computational graph of the model\"\"\"\n",
    "                \n",
    "                print_log(worker_num, \"build graph, input shape: {0}\".format(X.shape))\n",
    "                \n",
    "                W = {\n",
    "                    'hidden': tf.Variable(tf.random_normal([NUM_FEATURES, NUM_HIDDEN_UNITS])),\n",
    "                    'output': tf.Variable(tf.random_normal([NUM_HIDDEN_UNITS, NUM_CLASSES]))\n",
    "                }\n",
    "                biases = {\n",
    "                        'hidden': tf.Variable(tf.random_normal([NUM_HIDDEN_UNITS], mean=1.0)),\n",
    "                        'output': tf.Variable(tf.random_normal([NUM_CLASSES]))\n",
    "                }\n",
    "    \n",
    "                #X = tf.transpose(inputs, [1, 0, 2])\n",
    "                #X = tf.reshape(X, [-1, N_FEATURES])\n",
    "                hidden = tf.nn.relu(tf.matmul(X, W['hidden']) + biases['hidden'])\n",
    "                hidden = tf.split(hidden, SEQUENCE_SIZE, 0)\n",
    "\n",
    "                # Stack 2 LSTM layers\n",
    "                lstm_layers = [tf.contrib.rnn.BasicLSTMCell(NUM_HIDDEN_UNITS, forget_bias=1.0) for _ in range(2)]\n",
    "                lstm_layers = tf.contrib.rnn.MultiRNNCell(lstm_layers)\n",
    "\n",
    "                outputs, _ = tf.contrib.rnn.static_rnn(lstm_layers, hidden, dtype=tf.float32)\n",
    "\n",
    "                # Get output for the last time step\n",
    "                lstm_last_output = outputs[-1]\n",
    "                logits = tf.matmul(lstm_last_output, W['output']) + biases['output']\n",
    "                return logits\n",
    "\n",
    "            def define_optimizer(logits, labels, LEARNING_RATE):\n",
    "                \"\"\"Defines the optimizer of the model and calculates step, loss, prediction, accuracy\"\"\"\n",
    "                \n",
    "                print_log(worker_num, \"define optimizer, labels shape: {0}, logits shape: {1}\".format(labels.shape, logits.shape))\n",
    "                \n",
    "                #Global step to keep track of how long training have proceeded, \n",
    "                #incremented by one for each gradient computation\n",
    "                global_step = tf.Variable(0, name=\"global_step\", trainable=False)\n",
    "                \n",
    "                softmax_prediction = tf.nn.softmax(logits, name=\"prediction\")\n",
    "                prediction = tf.argmax(softmax_prediction, 1)\n",
    "                \n",
    "                #L2 Regularization\n",
    "                L2_LOSS = 0.0015\n",
    "                l2 = L2_LOSS * sum(tf.nn.l2_loss(tf_var) for tf_var in tf.trainable_variables())\n",
    "                \n",
    "                # Define loss and optimizer\n",
    "                cross_entropy = tf.reduce_mean(\n",
    "                    tf.nn.sparse_softmax_cross_entropy_with_logits(\n",
    "                        labels=tf.reshape(labels, [-1]), \n",
    "                        logits=logits)) + l2\n",
    "                tf.summary.scalar(\"loss\", cross_entropy) #for tensorboard\n",
    "                \n",
    "                train_step = tf.train.AdamOptimizer(learning_rate=LEARNING_RATE).minimize(\n",
    "                    cross_entropy, \n",
    "                    global_step=global_step)\n",
    "                \n",
    "                # Test trained model\n",
    "                correct_prediction = tf.equal(prediction, labels)\n",
    "                accuracy = tf.reduce_mean(tf.cast(correct_prediction, tf.float32), name=\"accuracy\")\n",
    "                tf.summary.scalar(\"acc\", accuracy) #for tensorboard\n",
    "                return train_step, accuracy, cross_entropy, global_step, prediction, correct_prediction\n",
    "\n",
    "            LEARNING_RATE = args.learningrate\n",
    "            \n",
    "            # Placeholders or QueueRunner/Readers for input data\n",
    "            num_epochs = 1 if args.mode == \"inference\" else None if args.epochs == 0 else args.epochs\n",
    "            index = task_index if args.mode == \"inference\" else None\n",
    "            workers = num_workers if args.mode == \"inference\" else None\n",
    "\n",
    "            features = TFNode.hdfs_path(ctx, args.features) #input csv files\n",
    "            labels = TFNode.hdfs_path(ctx, args.labels) #input csv files\n",
    "            \n",
    "            x = read_csv_features(features, batch_size, num_epochs, index, workers)\n",
    "            y = read_csv_labels(labels, batch_size/SEQUENCE_SIZE, num_epochs, index, workers)\n",
    "            print_log(worker_num, \"shape: {0}, {1}\".format(x.shape, y.shape))\n",
    "            \n",
    "            logits = build_graph(x)\n",
    "            training_step, accuracy, loss, global_step, pred, correct_prediction = define_optimizer(logits, y, LEARNING_RATE)\n",
    "\n",
    "            saver = tf.train.Saver()\n",
    "            summary_op = tf.summary.merge_all()\n",
    "            init_op = tf.global_variables_initializer()\n",
    "\n",
    "        logdir = tensorboard.logdir()\n",
    "        print_log(worker_num, \"tensorflow model path: {0}\".format(logdir))\n",
    "\n",
    "        if job_name == \"worker\" and task_index == 0:\n",
    "            summary_writer = tf.summary.FileWriter(logdir, graph=tf.get_default_graph())\n",
    "\n",
    "        if args.mode == \"train\":\n",
    "            sv = tf.train.Supervisor(is_chief=(task_index == 0),\n",
    "                                         logdir=logdir,\n",
    "                                         init_op=init_op,\n",
    "                                         summary_op=None,\n",
    "                                         summary_writer=None,\n",
    "                                         saver=saver,\n",
    "                                         global_step=global_step,\n",
    "                                         stop_grace_secs=300,\n",
    "                                         save_model_secs=10)\n",
    "        else:\n",
    "            sv = tf.train.Supervisor(is_chief=(task_index == 0),\n",
    "                                         logdir=logdir,\n",
    "                                         summary_op=None,\n",
    "                                         saver=saver,\n",
    "                                         global_step=global_step,\n",
    "                                         stop_grace_secs=300,\n",
    "                                         save_model_secs=0)\n",
    "\n",
    "        output_dir = TFNode.hdfs_path(ctx, args.output)\n",
    "        output_file = tf.gfile.Open(\"{0}/part-{1:05d}\".format(output_dir, worker_num), mode='w')\n",
    "        \n",
    "        model_dir = TFNode.hdfs_path(ctx, args.model)\n",
    "        \n",
    "        # The supervisor takes care of session initialization, restoring from\n",
    "        # a checkpoint, and closing when done or an error occurs.\n",
    "        with sv.managed_session(server.target) as sess:\n",
    "            \"\"\"Asynchronous SGD training with supervisor\"\"\"\n",
    "            \n",
    "            print_log(worker_num, \"session ready, starting training\")\n",
    "            # Loop until the supervisor shuts down or maximum steps have completed.\n",
    "            step = 0\n",
    "            count = 0\n",
    "            #sv.start_queue_runners(sess)\n",
    "            while not sv.should_stop() and step < args.steps:\n",
    "                # Run a training step asynchronously.\n",
    "                if args.mode == \"train\":\n",
    "                    _, summary, step = sess.run([training_step, summary_op, global_step])\n",
    "                    # logging.info accuracy and save model checkpoint to HDFS every 100 steps\n",
    "                    if (step % 100 == 0):\n",
    "                        preds, acc, losss = sess.run([pred, accuracy, loss])\n",
    "                        print_log(worker_num, \"step: {0}, acc: {1}, loss: {2}\".format(step, acc, losss))\n",
    "                        xx,yy,corr_pred = sess.run([x, y, correct_prediction])\n",
    "                        #print_log(worker_num, \"x: {0}, y: {1}\".format(xx, yy))\n",
    "                        print_log(worker_num, \"pred: \\n {2} \\n corr_pred: \\n {0}, \\n label: \\n {1} \\n\".format(corr_pred, yy, preds))\n",
    "                        \n",
    "                        if sv.is_chief:\n",
    "                            summary_writer.add_summary(summary, step)\n",
    "                else:  # args.mode == \"inference\"\n",
    "                    print_log(worker_num, \"doing inference\")\n",
    "                    label, preds, acc = sess.run([labels, pred, accuracy])\n",
    "                    for i in range(len(label)):\n",
    "                        count += 1\n",
    "                        output_file.write(\"{0} {1}\\n\".format(label[i], pred[i]))\n",
    "                    print_log(worker_num, \"count: {0}\".format(count))\n",
    "\n",
    "            if args.mode == \"inference\":\n",
    "                output_file.close()\n",
    "                # Delay chief worker from shutting down supervisor during inference, since it can load model, start session,\n",
    "                # run inference and request stop before the other workers even start/sync their sessions.\n",
    "                if task_index == 0:\n",
    "                    time.sleep(60)\n",
    "            \n",
    "            if sv.is_chief:\n",
    "                save_path = saver.save(sess, model_dir)\n",
    "                print_log(worker_num, \"Model saved in file: {}\".format(save_path))\n",
    "                summ = tf.summary.FileWriter(model_dir, graph=tf.get_default_graph())\n",
    "                summ.flush()\n",
    "\n",
    "            # Ask for all the services to stop.\n",
    "            print(\"{0} stopping supervisor\".format(datetime.now().isoformat()))\n",
    "            sv.stop()\n"
   ]
  },
  {
   "cell_type": "markdown",
   "metadata": {
    "deletable": true,
    "editable": true
   },
   "source": [
    "## Spark Cluster Setup For Training"
   ]
  },
  {
   "cell_type": "code",
   "execution_count": null,
   "metadata": {
    "collapsed": false,
    "deletable": true,
    "editable": true
   },
   "outputs": [],
   "source": [
    "def spark_setup_cluster_training():\n",
    "    \"\"\"Start the cluster training with given parameters\"\"\"\n",
    "    from hops import tensorboard\n",
    "    num_executors = util.num_executors(spark)\n",
    "    num_ps = util.num_param_servers(spark)\n",
    "    args = parse_args(num_executors)\n",
    "    args = training_args(args)\n",
    "    #args = test_args(args)\n",
    "    cluster = TFCluster.run(sc, map_fun, args, args.cluster_size, num_ps, args.tensorboard, TFCluster.InputMode.TENSORFLOW)\n",
    "    cluster.shutdown()\n",
    "    print(\"Finnished, cluster shutdown\")"
   ]
  },
  {
   "cell_type": "code",
   "execution_count": null,
   "metadata": {
    "collapsed": false,
    "deletable": true,
    "editable": true
   },
   "outputs": [],
   "source": [
    "spark_setup_cluster_training()"
   ]
  },
  {
   "cell_type": "code",
   "execution_count": null,
   "metadata": {
    "collapsed": true,
    "deletable": true,
    "editable": true
   },
   "outputs": [],
   "source": []
  }
 ],
 "metadata": {
  "kernelspec": {
   "display_name": "PySpark",
   "language": "",
   "name": "pysparkkernel"
  },
  "language_info": {
   "codemirror_mode": {
    "name": "python",
    "version": 2
   },
   "mimetype": "text/x-python",
   "name": "pyspark",
   "pygments_lexer": "python2"
  }
 },
 "nbformat": 4,
 "nbformat_minor": 2
}
